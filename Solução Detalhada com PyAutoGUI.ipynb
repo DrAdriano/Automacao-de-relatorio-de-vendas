{
 "cells": [
  {
   "cell_type": "markdown",
   "id": "44e27f7b",
   "metadata": {
    "id": "44e27f7b"
   },
   "source": [
    "# Automação de relatório de vendas\n",
    "\n",
    "Esse material contém uma solução para um desafio envolvendo automação e é organizado de maneira detalhada e acessível, podendo ser entendida por quem está iniciando na linguagem Python.\n",
    "\n",
    "**Desafio:** Automatizar o processo de acessar os dados de vendas de uma empresa, calcular o faturamento e a quantidade total de produtos vendidos no dia anterior e enviar um e-mail com essas informações. Esse envio de relatório pode ser parte do trabalho diário de um analista de uma empresa.\n",
    "\n",
    "Dentro do [repositório](https://github.com/DrAdriano/Automacao-de-relatorio-de-vendas), você encontrará:  a base de vendas, que contém informações de aproximadamente 7.000 vendas; uma solução detalhada usando PyAutoGUI, uma biblioteca do Python para automação de comandos do mouse e do teclado; duas soluções finais, uma adaptada para o Visual Code Studio a partir da solução detalhada, mas desenvolvidas sem a poluição visual dos comentários, e outra, uma versão alternativa, usando Selenium, que é capaz de automatizar atividades de navegadores; e a pasta com a captura de tela de como ficou a mensagem do e-mail.\n",
    "\n",
    "## Sumário\n",
    "\n",
    "1. Bibliotecas usadas\n",
    "2. Passo a passo do código\n",
    "    * 2.1 Entrar no sistema da empresa\n",
    "    * 2.2 Navegar no sistema e encontrando a base de vendas\n",
    "    * 2.3 Fazer o download da base de vendas\n",
    "    * 2.4 Verificar as variáveis de cada coluna\n",
    "    * 2.5 Importar a base de vendas pro Python\n",
    "    * 2.6 Enviar o relatório por e-mail\n",
    "3. Conclusões e comentários\n",
    "\n",
    "## 1. Bibliotecas usadas\n",
    "\n",
    "As principais bibliotecas usadas são: [PyAutoGUI](https://pyautogui.readthedocs.io/en/latest/), usada para automação de comandos do mouse e do teclado, e o [Pandas](https://pandas.pydata.org/), para trabalhar com dados. Para melhor aproveitamento do PyAutoGUI, usamos também as bibliotecas [Pyperclip](https://pypi.org/project/pyperclip/), usada para copiar e colar textos, e [Time](https://docs.python.org/3/library/time.html), que no nosso caso é usado para fazer o código esperar alguns segundos antes de executar algum comando em específico. O envio do e-mail pode ser feito usando as bibliotecas supracitadas, mas há uma maneira alternativa com as bibliotecas [smtplib](https://docs.python.org/3/library/smtplib.html) e [email.message](https://docs.python.org/3/library/email.message.html), próprias para enviar e-mail.\n",
    "\n",
    "Apesar de usar muitas bibliotecas, precisamos instalar apenas o PyAutoGUI, pois algumas já são baixadas nesse processo e as outras o Jupyter já tem naturalmente."
   ]
  },
  {
   "cell_type": "code",
   "execution_count": 11,
   "id": "d99cb5dc",
   "metadata": {
    "collapsed": true
   },
   "outputs": [
    {
     "name": "stdout",
     "output_type": "stream",
     "text": [
      "Requirement already satisfied: pyautogui in c:\\users\\adria\\appdata\\roaming\\python\\python39\\site-packages (0.9.53)\n",
      "Requirement already satisfied: pymsgbox in c:\\users\\adria\\appdata\\roaming\\python\\python39\\site-packages (from pyautogui) (1.0.9)\n",
      "Requirement already satisfied: mouseinfo in c:\\users\\adria\\appdata\\roaming\\python\\python39\\site-packages (from pyautogui) (0.1.3)\n",
      "Requirement already satisfied: pyscreeze>=0.1.21 in c:\\users\\adria\\appdata\\roaming\\python\\python39\\site-packages (from pyautogui) (0.1.28)\n",
      "Requirement already satisfied: pygetwindow>=0.0.5 in c:\\users\\adria\\appdata\\roaming\\python\\python39\\site-packages (from pyautogui) (0.0.9)\n",
      "Requirement already satisfied: PyTweening>=1.0.1 in c:\\users\\adria\\appdata\\roaming\\python\\python39\\site-packages (from pyautogui) (1.0.4)\n",
      "Requirement already satisfied: pyrect in c:\\users\\adria\\appdata\\roaming\\python\\python39\\site-packages (from pygetwindow>=0.0.5->pyautogui) (0.2.0)\n",
      "Requirement already satisfied: pyperclip in c:\\users\\adria\\appdata\\roaming\\python\\python39\\site-packages (from mouseinfo->pyautogui) (1.8.2)\n"
     ]
    }
   ],
   "source": [
    "!pip install pyautogui"
   ]
  },
  {
   "cell_type": "code",
   "execution_count": 12,
   "id": "c3528827",
   "metadata": {},
   "outputs": [],
   "source": [
    "import pyautogui  \n",
    "import pyperclip  \n",
    "import time       \n",
    "import pandas as pd   \n",
    "import smtplib\n",
    "import email.message"
   ]
  },
  {
   "cell_type": "markdown",
   "id": "a7f1de6e",
   "metadata": {
    "id": "a7f1de6e"
   },
   "source": [
    "## 2. Passo a passo do código \n",
    "\n",
    "Vamos começar organizando o passo a passo do código, que pode ser feito a partir do pensamento de como seria feito manualmente. Dessa maneira, temos:\n",
    "\n",
    "* Passo 1: Entrar no sistema da empresa.\n",
    "\n",
    "Podemos entrar pelo Google Drive, mas se fosse um sistema mais complicado, daria para fazer as devidas alterações sem muitas complicações, apenas fazendo algumas alterações. no nosso caso, acessamos pelo link: https://drive.google.com/drive/folders/1t5fxGDQ5BZe18EKEyRtM8yZAlog7b6ZB?usp=sharing\n",
    "\n",
    "* Passo 2: Navegar no sistema e encontrar a base de vendas.\n",
    "\n",
    "Nesse exemplo, entramos dentro de uma pasta no Google Drive.\n",
    "\n",
    "* Passo 3: Fazer o download da base de vendas.\n",
    "* Passo 4: Importar a base de vendas pro Python.\n",
    "* Passo 5: Calcular os indicadores da empresa: o faturamento e a quantidade total de produtos vendidos no dia anterior.\n",
    "* Passo 6: Enviar um e-mail para a diretoria com os indicadores de venda.\n",
    "\n",
    "### 2.1 Entrando no sistema da empresa \n",
    "\n",
    "Vamos fazer o código abrir uma nova guia no navegador, digitar o link do Google Drive e acessar a página."
   ]
  },
  {
   "cell_type": "code",
   "execution_count": 13,
   "id": "58d37451",
   "metadata": {
    "id": "58d37451"
   },
   "outputs": [],
   "source": [
    "pyautogui.hotkey(\"ctrl\", \"t\")    \n",
    "# O \"hotkey\" é usado para apertar duas teclas. O Ctrl + T é o comando para abrir uma nova aba no navegador.\n",
    "pyperclip.copy(\"https://drive.google.com/drive/folders/1t5fxGDQ5BZe18EKEyRtM8yZAlog7b6ZB?usp=sharing\")\n",
    "# Copia o link para a área de transferência.\n",
    "# Poderia usar também o \"pyautogui.write\", para digitar o texto na barra\n",
    "# mas esse comando não digita caracteres especiais, como \"?\", \"#\" e letras acentuadas.\n",
    "pyautogui.hotkey(\"ctrl\", \"v\")\n",
    "# O Ctrl + V é o comando para colar o texto da área de transferência. \n",
    "pyautogui.press(\"enter\")\n",
    "# O \"press\" é usado para apertar uma única tecla.\n",
    "\n",
    "time.sleep(5)\n",
    "# Comando para esparar 5 segundos, uma garantia que a página vai abrir."
   ]
  },
  {
   "cell_type": "markdown",
   "id": "0c0a7334",
   "metadata": {
    "id": "0c0a7334"
   },
   "source": [
    "### 2.2 Navegando no sistema e encontrando a base de vendas  \n",
    "\n",
    "Nesta etapa, precisamos clicar na pasta \"Base de vendas\" para ter acesso ao arquivo excel com as informações sobre as vendas. Para isso, vamos usar o comando 'pyautogui.click', que clica em determinada posição da tela a partir de coordenadas. Para descobrir as coordenadas do ponto de interesse da tela, usamos o comando 'pyautogui.position()', que mostra as coordenadas que o mouse se encontra no momento. Este comando não faz parte do código final, ele é usado apenas para descobrir as coordenadas.\n",
    "\n",
    "\n",
    "Cuidado: As coordenadas podem ser diferentes no seu caso, pois depende da quantidade de pixels da tela do computador que está sendo usado."
   ]
  },
  {
   "cell_type": "code",
   "execution_count": 14,
   "id": "2f6edbeb",
   "metadata": {
    "colab": {
     "base_uri": "https://localhost:8080/",
     "height": 217
    },
    "id": "2f6edbeb",
    "outputId": "fd5acec2-9a7f-4095-b891-2c7c320fd7d7"
   },
   "outputs": [
    {
     "data": {
      "text/plain": [
       "Point(x=843, y=142)"
      ]
     },
     "execution_count": 14,
     "metadata": {},
     "output_type": "execute_result"
    }
   ],
   "source": [
    "time.sleep(5)\n",
    "# Comando para esparar 5 segundos, para posicionar o mouse no local de interesse.\n",
    "\n",
    "pyautogui.position()"
   ]
  },
  {
   "cell_type": "code",
   "execution_count": 15,
   "id": "e753f63a",
   "metadata": {
    "id": "e753f63a"
   },
   "outputs": [],
   "source": [
    "time.sleep(5) \n",
    "# Comando para esparar 5 segundos, para dar tempo de entrar voltar na aba do Google Drive.\n",
    "# Não entra no código final\n",
    "\n",
    "pyautogui.click(x=364, y=287, clicks=2)\n",
    "# Duplo clique para abrir a pasta.\n",
    "\n",
    "time.sleep(2)\n",
    "# Comando para esparar 2 segundos, uma garantia que a página vai abrir."
   ]
  },
  {
   "cell_type": "markdown",
   "id": "f1ba88cb",
   "metadata": {
    "id": "f1ba88cb"
   },
   "source": [
    "### 2.3 Fazendo o download da base de vendas  \n",
    "\n",
    "Podemos fazer o download usando 3 cliques: um no arquivo, outro nos três pontinhos e, por fim, na opção de fazer o download. Para descobrir as coordenadas de cada clique, usamos a mesma técnica do passo anterior."
   ]
  },
  {
   "cell_type": "code",
   "execution_count": 16,
   "id": "8cbaccb3",
   "metadata": {
    "id": "8cbaccb3"
   },
   "outputs": [],
   "source": [
    "time.sleep(5) \n",
    "# Comando para esparar 5 segundos, para dar tempo de entrar voltar na aba do Google Drive.\n",
    "# Não entra no código final\n",
    "\n",
    "pyautogui.click(x=323, y=289) \n",
    "# Clicando no arquivo\n",
    "pyautogui.click(x=1163, y=192) \n",
    "# Clicando nos 3 pontinhos.\n",
    "time.sleep(1)\n",
    "# Comando para esparar 1 segundos, para dar tempo de \"abrir os 3 pontinhos\".\n",
    "pyautogui.click(x=987, y=564) \n",
    "# Clicando no fazer download.\n",
    "\n",
    "time.sleep(5) \n",
    "# Comando para esparar 5 segundos, para finalizar o download."
   ]
  },
  {
   "cell_type": "markdown",
   "id": "1f1e198b",
   "metadata": {
    "id": "1f1e198b"
   },
   "source": [
    "### 2.4 Importando a base de vendas pro Python \n",
    "\n",
    "A partir de agora começamos a usar o Pandas efetivamente. Importamos o arquivo, que está localizado na pasta de Downloads, para dentro do nosso código."
   ]
  },
  {
   "cell_type": "code",
   "execution_count": 17,
   "id": "5f15645d",
   "metadata": {
    "id": "5f15645d",
    "outputId": "ba3c93bc-3a12-44cf-cab4-f4da6a251f17"
   },
   "outputs": [
    {
     "data": {
      "text/html": [
       "<div>\n",
       "<style scoped>\n",
       "    .dataframe tbody tr th:only-of-type {\n",
       "        vertical-align: middle;\n",
       "    }\n",
       "\n",
       "    .dataframe tbody tr th {\n",
       "        vertical-align: top;\n",
       "    }\n",
       "\n",
       "    .dataframe thead th {\n",
       "        text-align: right;\n",
       "    }\n",
       "</style>\n",
       "<table border=\"1\" class=\"dataframe\">\n",
       "  <thead>\n",
       "    <tr style=\"text-align: right;\">\n",
       "      <th></th>\n",
       "      <th>Código Venda</th>\n",
       "      <th>ID Loja</th>\n",
       "      <th>Produto</th>\n",
       "      <th>Quantidade</th>\n",
       "      <th>Valor Unitário</th>\n",
       "      <th>Valor Final</th>\n",
       "    </tr>\n",
       "  </thead>\n",
       "  <tbody>\n",
       "    <tr>\n",
       "      <th>0</th>\n",
       "      <td>65014</td>\n",
       "      <td>Shopping Morumbi</td>\n",
       "      <td>Sunga Listrado</td>\n",
       "      <td>5</td>\n",
       "      <td>114</td>\n",
       "      <td>570</td>\n",
       "    </tr>\n",
       "    <tr>\n",
       "      <th>1</th>\n",
       "      <td>65014</td>\n",
       "      <td>Shopping Morumbi</td>\n",
       "      <td>Casaco Listrado</td>\n",
       "      <td>1</td>\n",
       "      <td>269</td>\n",
       "      <td>269</td>\n",
       "    </tr>\n",
       "    <tr>\n",
       "      <th>2</th>\n",
       "      <td>65016</td>\n",
       "      <td>Iguatemi Campinas</td>\n",
       "      <td>Sapato Listrado</td>\n",
       "      <td>2</td>\n",
       "      <td>363</td>\n",
       "      <td>726</td>\n",
       "    </tr>\n",
       "    <tr>\n",
       "      <th>3</th>\n",
       "      <td>65016</td>\n",
       "      <td>Iguatemi Campinas</td>\n",
       "      <td>Casaco</td>\n",
       "      <td>1</td>\n",
       "      <td>250</td>\n",
       "      <td>250</td>\n",
       "    </tr>\n",
       "    <tr>\n",
       "      <th>4</th>\n",
       "      <td>65017</td>\n",
       "      <td>Shopping SP Market</td>\n",
       "      <td>Gorro Liso</td>\n",
       "      <td>3</td>\n",
       "      <td>92</td>\n",
       "      <td>276</td>\n",
       "    </tr>\n",
       "    <tr>\n",
       "      <th>...</th>\n",
       "      <td>...</td>\n",
       "      <td>...</td>\n",
       "      <td>...</td>\n",
       "      <td>...</td>\n",
       "      <td>...</td>\n",
       "      <td>...</td>\n",
       "    </tr>\n",
       "    <tr>\n",
       "      <th>7084</th>\n",
       "      <td>69996</td>\n",
       "      <td>Center Shopping Uberlândia</td>\n",
       "      <td>Short Listrado</td>\n",
       "      <td>2</td>\n",
       "      <td>102</td>\n",
       "      <td>204</td>\n",
       "    </tr>\n",
       "    <tr>\n",
       "      <th>7085</th>\n",
       "      <td>69996</td>\n",
       "      <td>Center Shopping Uberlândia</td>\n",
       "      <td>Mochila</td>\n",
       "      <td>4</td>\n",
       "      <td>270</td>\n",
       "      <td>1080</td>\n",
       "    </tr>\n",
       "    <tr>\n",
       "      <th>7086</th>\n",
       "      <td>69996</td>\n",
       "      <td>Center Shopping Uberlândia</td>\n",
       "      <td>Pulseira Estampa</td>\n",
       "      <td>1</td>\n",
       "      <td>87</td>\n",
       "      <td>87</td>\n",
       "    </tr>\n",
       "    <tr>\n",
       "      <th>7087</th>\n",
       "      <td>69997</td>\n",
       "      <td>Ribeirão Shopping</td>\n",
       "      <td>Camisa Listrado</td>\n",
       "      <td>1</td>\n",
       "      <td>108</td>\n",
       "      <td>108</td>\n",
       "    </tr>\n",
       "    <tr>\n",
       "      <th>7088</th>\n",
       "      <td>69997</td>\n",
       "      <td>Ribeirão Shopping</td>\n",
       "      <td>Short Linho</td>\n",
       "      <td>2</td>\n",
       "      <td>133</td>\n",
       "      <td>266</td>\n",
       "    </tr>\n",
       "  </tbody>\n",
       "</table>\n",
       "<p>7089 rows × 6 columns</p>\n",
       "</div>"
      ],
      "text/plain": [
       "      Código Venda                     ID Loja           Produto  Quantidade  \\\n",
       "0            65014            Shopping Morumbi    Sunga Listrado           5   \n",
       "1            65014            Shopping Morumbi   Casaco Listrado           1   \n",
       "2            65016           Iguatemi Campinas   Sapato Listrado           2   \n",
       "3            65016           Iguatemi Campinas            Casaco           1   \n",
       "4            65017          Shopping SP Market        Gorro Liso           3   \n",
       "...            ...                         ...               ...         ...   \n",
       "7084         69996  Center Shopping Uberlândia    Short Listrado           2   \n",
       "7085         69996  Center Shopping Uberlândia           Mochila           4   \n",
       "7086         69996  Center Shopping Uberlândia  Pulseira Estampa           1   \n",
       "7087         69997           Ribeirão Shopping   Camisa Listrado           1   \n",
       "7088         69997           Ribeirão Shopping       Short Linho           2   \n",
       "\n",
       "      Valor Unitário  Valor Final  \n",
       "0                114          570  \n",
       "1                269          269  \n",
       "2                363          726  \n",
       "3                250          250  \n",
       "4                 92          276  \n",
       "...              ...          ...  \n",
       "7084             102          204  \n",
       "7085             270         1080  \n",
       "7086              87           87  \n",
       "7087             108          108  \n",
       "7088             133          266  \n",
       "\n",
       "[7089 rows x 6 columns]"
      ]
     },
     "metadata": {},
     "output_type": "display_data"
    },
    {
     "name": "stdout",
     "output_type": "stream",
     "text": [
      "      Código Venda                     ID Loja           Produto  Quantidade  \\\n",
      "0            65014            Shopping Morumbi    Sunga Listrado           5   \n",
      "1            65014            Shopping Morumbi   Casaco Listrado           1   \n",
      "2            65016           Iguatemi Campinas   Sapato Listrado           2   \n",
      "3            65016           Iguatemi Campinas            Casaco           1   \n",
      "4            65017          Shopping SP Market        Gorro Liso           3   \n",
      "...            ...                         ...               ...         ...   \n",
      "7084         69996  Center Shopping Uberlândia    Short Listrado           2   \n",
      "7085         69996  Center Shopping Uberlândia           Mochila           4   \n",
      "7086         69996  Center Shopping Uberlândia  Pulseira Estampa           1   \n",
      "7087         69997           Ribeirão Shopping   Camisa Listrado           1   \n",
      "7088         69997           Ribeirão Shopping       Short Linho           2   \n",
      "\n",
      "      Valor Unitário  Valor Final  \n",
      "0                114          570  \n",
      "1                269          269  \n",
      "2                363          726  \n",
      "3                250          250  \n",
      "4                 92          276  \n",
      "...              ...          ...  \n",
      "7084             102          204  \n",
      "7085             270         1080  \n",
      "7086              87           87  \n",
      "7087             108          108  \n",
      "7088             133          266  \n",
      "\n",
      "[7089 rows x 6 columns]\n"
     ]
    }
   ],
   "source": [
    "import pandas as pd   # Biblioteca para trabalhar com dados, é comumente chamado de \"pd\". \n",
    "\n",
    "tabela = pd.read_excel(r\"C:\\Users\\adria\\Downloads\\Vendas - Dia anterior.xlsx\")\n",
    "# Comando para importar uma tabela do excel.\n",
    "# A letra 'r' antes das aspas indica que o texto é um local de arquivo.\n",
    "\n",
    "display(tabela)\n",
    "# Comando que só funciona no Jupyter, para imprimir a tabela de uma maneira mais bonita.\n",
    "# Pode-se usar também o comando \"print(tabela)\".\n",
    "\n",
    "print(tabela)\n",
    "# Para comparar o resultado dos comandos."
   ]
  },
  {
   "cell_type": "markdown",
   "id": "e18f1bb7",
   "metadata": {
    "id": "e18f1bb7"
   },
   "source": [
    "### 2.5 Calculando os indicadores \n",
    "\n",
    "Os indicadores de intresse são: O faturamento e a quantidade de produtos vendidos. Para chegar nesses valores, precisamos somar as colunas \"Valor Final\" e \"Quantidade\", respectivamente."
   ]
  },
  {
   "cell_type": "code",
   "execution_count": 18,
   "id": "0bb4128a",
   "metadata": {
    "id": "0bb4128a",
    "outputId": "2591f141-abd9-40b1-9605-068dd538c48d"
   },
   "outputs": [
    {
     "name": "stdout",
     "output_type": "stream",
     "text": [
      "2917311\n",
      "15227\n"
     ]
    }
   ],
   "source": [
    "faturamento = tabela[\"Valor Final\"].sum()\n",
    "print(faturamento)\n",
    "quantidade = tabela[\"Quantidade\"].sum()\n",
    "print(quantidade)"
   ]
  },
  {
   "cell_type": "markdown",
   "id": "0511e3a3",
   "metadata": {
    "id": "0511e3a3"
   },
   "source": [
    "### 2.6 Enviando o relatório por e-mail \n",
    "\n",
    "Podemos resolver usando o próprio PyAutoGUI: Começamos abrindo o gmail. Depois disso, clicamos no botão \"escrever\", escrevemos as informações e o corpo do e-mail e enviamos.\n",
    "\n",
    "A outra meneira alternativa é usando smtplib e email.message.\n",
    "\n",
    "#### 2.6.1 Método com o PyAutoGUI"
   ]
  },
  {
   "cell_type": "code",
   "execution_count": 9,
   "id": "7f7eb64e",
   "metadata": {
    "id": "7f7eb64e"
   },
   "outputs": [],
   "source": [
    "# Abrindo o e-mail.\n",
    "pyautogui.hotkey(\"ctrl\", \"t\")\n",
    "pyperclip.copy(\"https://mail.google.com/mail/u/0/#inbox\")\n",
    "pyautogui.hotkey(\"ctrl\", \"v\")\n",
    "pyautogui.press(\"enter\")\n",
    "\n",
    "time.sleep(5)\n",
    "# Comando para esparar 5 segundos, uma garantia que a página vai abrir.\n",
    "\n",
    "pyautogui.click(x=78, y=180)\n",
    "# Clicando no botão \"escrever\".\n",
    "\n",
    "time.sleep(1.5)\n",
    "# Comando para esparar 1.5 segundos, para dar tempo de abrir o espaço de digitação.\n",
    "\n",
    "# Preencher as informações do e-mail.\n",
    "pyautogui.write('E-mail de destino')\n",
    "# Esse é o e-mail do Lira feito para esse tipo de teste.\n",
    "time.sleep(0.5)\n",
    "# Estava tendo um bug sem esse tempo de espera, não ficou claro o motivo disso ter resolvido.\n",
    "# O Bug: O texto do corpo do e-mail estava sendo digitado no corpo e no assunto.\n",
    "pyautogui.press(\"tab\")\n",
    "# Selecionar o e-mail.\n",
    "pyautogui.press(\"tab\") \n",
    "# Pular para o campo de assunto.\n",
    "pyperclip.copy(\"Relatório de Vendas\")\n",
    "pyautogui.hotkey(\"ctrl\", \"v\")\n",
    "\n",
    "pyautogui.press(\"tab\") \n",
    "# Pular para o campo de corpo do e-mail.\n",
    "\n",
    "texto = f\"\"\"Bom dia,\n",
    "\n",
    "Venho por meio dessa, expor o relatório de vendas de ontem. O faturamento total \n",
    "foi de R$ {faturamento:,.2f}, com um total de {quantidade:,} produtos vendidos.\n",
    "\n",
    "Fico à disposição para qualquer dúvida.\n",
    "\n",
    "Atenciosamente,\n",
    "Adriano Jr. G. Gonçalves\n",
    "\"\"\"\n",
    "# A letra 'f' antes das aspas indica que dentro do texto será impresso variáveis.\n",
    "# As variáveis são indicadas dentro do texto com as chaves, mas pode ter formatações, \n",
    "# como no caso do dinheiro.\n",
    "# Quando precisar desse tipo de informação, pesquisar sobre código de formatação. \n",
    "\n",
    "pyperclip.copy(texto)\n",
    "pyautogui.hotkey(\"ctrl\", \"v\")\n",
    "\n",
    "# Enviar o e-mail\n",
    "pyautogui.hotkey(\"ctrl\", \"enter\")\n",
    "print('Email enviado com sucesso!')"
   ]
  },
  {
   "cell_type": "markdown",
   "id": "196714fa",
   "metadata": {},
   "source": [
    "#### 2.6.2 Método com o smtplib e email.message\n",
    "\n",
    "Podemos definir uma função que envia o e-mail."
   ]
  },
  {
   "cell_type": "code",
   "execution_count": null,
   "id": "c1844eab",
   "metadata": {},
   "outputs": [],
   "source": [
    "def enviar_email():  \n",
    "    mensagem_email = f\"\"\" <p>Bom dia,</p>\n",
    "\n",
    "    <p>Venho por meio dessa mensagem gerada automaticamente com Python, expor o relatório de vendas de ontem. O faturamento total \n",
    "foi de R$ {faturamento:,.2f}, com um total de {quantidade:,} produtos vendidos.</p>\n",
    "    <p>Fico à disposição para qualquer dúvida.</p>\n",
    "\n",
    "    <p>Atenciosamente,</p>\n",
    "    <p>Adriano Jr. G. Gonçalves</p>\n",
    "    \"\"\"\n",
    "\n",
    "    msg = email.message.Message()\n",
    "    msg['Subject'] = \"Relatório de Vendas\"\n",
    "    msg['From'] = 'E-mail de origem'\n",
    "    msg['To'] = 'E-mail de destino'\n",
    "    password = 'Senha do Gmail para a Automação'  \n",
    "\n",
    "    msg.add_header('Content-Type', 'text/html')\n",
    "    msg.set_payload(mensagem_email)\n",
    "\n",
    "    s = smtplib.SMTP('smtp.gmail.com: 587')\n",
    "    s.starttls()\n",
    "    s.login(msg['From'], password)\n",
    "    s.sendmail(msg['From'], [msg['To']], msg.as_string().encode('utf-8'))\n",
    "    print('Email enviado com sucesso!')\n",
    "\n",
    "enviar_email()"
   ]
  },
  {
   "cell_type": "markdown",
   "id": "33d20e63",
   "metadata": {
    "id": "33d20e63"
   },
   "source": [
    "## 3. Conclusões e comentários \n",
    "\n",
    "Ambas as soluções, cumprem com seus objetivos, mas com suas limitações. A primeira desenvolvida foi com PyAutoGUI, uma biblioteca que poderia ser melhorada ao disponibilizar maneiras de colocar caracteres especiais em alguns comandos, talvez usando o mesmo método que o LaTex. Um ponto curioso dessa biblioteca é que seus bugs são comumente resolvidos dando um intervalo para a próxima linha de código. Por conta disso, as bibliotecas 'pyperclip' e 'time' combinaram muito bem com ela, tendo por vezes uma situação de extrema dependência.\n",
    "\n",
    "Os principais problemas encontrados foram: Não pode usar o computador enquanto ele roda o algoritmo; Precisa fazer adaptações ao mudar de computador, por conta do comando 'pyautogui.click()' usar como referência a quantidade de pixels da tela para saber onde clicar; Os tempos de espera, por serem arbitrários, podem ter situações que não sejam suficientes ou que sejam mais que o necessários, dependendo principalmente da velocidade de internet e do processamento do computador.\n",
    "\n",
    "O Selenium é uma opção melhor para trabalhar, mas é limitada ao uso no navegador. Com essa biblioteca, é possível melhorar as questões problemáticas citadas anteriormente: pode-se fazer a automação rodar em segundo plano; Não é preciso muitas alterações para rodar em outro computador, muitas vezes nem é necessário; Não precisa por tempo de espera no caso de carregamento da página, pois assim que a página abre os próximos comando são realizados automaticamente. Entretanto, ainda é preciso colocar tempos de espera arbitrários quando se está abrindo caixas de diálogo ou pequenas alterações dentro da própria página.\n",
    "\n",
    "Apesar das limitações, os códigos funcionam e podem ser adaptados para entrar no sistema de uma dada empresa, mesmo se precisar fazer login. Uma questão para prestar atenção caso faça a adaptação é que o código não reconhece sozinho o arquivo correto para baixar, nem qual importar para o Python, se fosse um trabalho diário com um arquivo correto todos os dias, teria que fazer um processo de automação para essas etapas também. \n",
    "\n",
    "Podemos ainda pensar em algumas possibilidades de melhoria para o código, como otimizar o tempo de resposta, incluir a data e o arquivo excel no e-mail e agendar o programa para executar automaticamente.\n"
   ]
  }
 ],
 "metadata": {
  "colab": {
   "provenance": []
  },
  "kernelspec": {
   "display_name": "Python 3 (ipykernel)",
   "language": "python",
   "name": "python3"
  },
  "language_info": {
   "codemirror_mode": {
    "name": "ipython",
    "version": 3
   },
   "file_extension": ".py",
   "mimetype": "text/x-python",
   "name": "python",
   "nbconvert_exporter": "python",
   "pygments_lexer": "ipython3",
   "version": "3.9.15"
  },
  "vscode": {
   "interpreter": {
    "hash": "6f959b286b5f8c834869aaf1d757196b68a1cecf6e91cbea853ac64cd319e97b"
   }
  }
 },
 "nbformat": 4,
 "nbformat_minor": 5
}
